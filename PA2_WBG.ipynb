{
 "cells": [
  {
   "cell_type": "markdown",
   "id": "0462ad73-bf9c-4357-8fe7-b1131cd7d9d7",
   "metadata": {},
   "source": [
    "### PA2_WBG\n",
    "---\n",
    "**Author:** Ben Gierhart  \n",
    "**Version:** 1.0  \n",
    "**Semester:** Spring 2024 \n",
    "\n",
    "This *notebook* contains my solution(s) to **PA2_WBG**"
   ]
  },
  {
   "cell_type": "markdown",
   "id": "54d2efa6-d4cd-4ac8-bac8-54a2143bf9c5",
   "metadata": {},
   "source": [
    "### Problem 1 — Printing Numbers"
   ]
  },
  {
   "cell_type": "code",
   "execution_count": 14,
   "id": "e5e517f0-bcf2-495f-8aaa-ef8e82580277",
   "metadata": {},
   "outputs": [
    {
     "name": "stdout",
     "output_type": "stream",
     "text": [
      "0\n",
      "1\n",
      "2\n",
      "3\n",
      "4\n",
      "5\n",
      "6 *\n",
      "7\n",
      "8\n",
      "9 *\n",
      "10\n",
      "11\n",
      "12 *\n",
      "13\n",
      "14\n",
      "15 *\n",
      "16\n",
      "17\n",
      "18 *\n",
      "19\n",
      "20\n",
      "21 *\n",
      "22\n",
      "23\n",
      "24 *\n",
      "25\n",
      "26\n",
      "27 *\n",
      "28\n",
      "29\n",
      "30 *\n",
      "31\n",
      "32\n",
      "33 *\n",
      "34\n",
      "35\n",
      "36 *\n",
      "37\n",
      "38\n",
      "39 *\n",
      "40\n",
      "41\n",
      "42 *\n",
      "43\n",
      "44\n",
      "45 *\n",
      "46\n",
      "47\n",
      "48 *\n",
      "49\n",
      "50\n",
      "51 *\n",
      "52\n",
      "53\n",
      "54 *\n",
      "55\n",
      "56\n",
      "57 *\n",
      "58\n",
      "59\n",
      "60 *\n",
      "61\n",
      "62\n",
      "63 *\n",
      "64\n",
      "65\n",
      "66 *\n",
      "67\n",
      "68\n",
      "69 *\n",
      "70\n",
      "71\n",
      "72 *\n",
      "73\n",
      "74\n",
      "75 *\n",
      "76\n",
      "77\n",
      "78 *\n",
      "79\n",
      "80\n",
      "81 *\n",
      "82\n",
      "83\n",
      "84 *\n",
      "85\n",
      "86\n",
      "87 *\n",
      "88\n",
      "89\n",
      "90 *\n",
      "91\n",
      "92\n",
      "93 *\n",
      "94\n",
      "95\n",
      "96 *\n",
      "97\n",
      "98\n",
      "99 *\n",
      "100\n"
     ]
    }
   ],
   "source": [
    "for i in range(0,101,1):\n",
    "    if i == 0:\n",
    "        print(i)\n",
    "\n",
    "    elif i == 3:\n",
    "        print(i)\n",
    "\n",
    "    elif i % 3 == 0:\n",
    "        print(str(i) +\" *\")\n",
    "\n",
    "    else:\n",
    "        print(i)"
   ]
  },
  {
   "cell_type": "markdown",
   "id": "f020746f-1e7a-4e58-a8d5-ae1b8d40f5aa",
   "metadata": {},
   "source": [
    "### Problem 2 – Age Status"
   ]
  },
  {
   "cell_type": "code",
   "execution_count": 31,
   "id": "1e273f1b-c0b1-447e-827e-0ba770c0f096",
   "metadata": {},
   "outputs": [
    {
     "name": "stdin",
     "output_type": "stream",
     "text": [
      "What is the subject's age Enter '0' to quit. 0\n"
     ]
    },
    {
     "name": "stdout",
     "output_type": "stream",
     "text": [
      "Done!\n"
     ]
    }
   ],
   "source": [
    "age = input(\"What is the subject's age Enter '0' to quit.\")\n",
    "if int(age) == 0:\n",
    "    print(\"Done!\")\n",
    "while age!=\"0\":\n",
    "    iage = int(age)\n",
    "    output = f\"Thanks!\"\n",
    "\n",
    "    if iage<18:\n",
    "        output+=f\" Minor.\"\n",
    "\n",
    "    elif iage>=56:\n",
    "        output+=f\" Senior Citizen.\"\n",
    "\n",
    "    elif age == 0:\n",
    "        print(\"Done!\")\n",
    "\n",
    "    else:\n",
    "        output+=f\" Adult.\"\n",
    "    print(output)\n",
    "    age = input(\"What is the subject's age Enter '0' to quit.\")\n",
    "    if int(age) == 0:\n",
    "        print(\"Done!\")"
   ]
  },
  {
   "cell_type": "markdown",
   "id": "301e26ad-92d4-47f5-97ba-9ce6e62a3f54",
   "metadata": {},
   "source": [
    "### Problem 3 – Age Status v2"
   ]
  },
  {
   "cell_type": "code",
   "execution_count": 32,
   "id": "a780df43-424e-418c-9b41-01b1bb1819ee",
   "metadata": {},
   "outputs": [
    {
     "name": "stdin",
     "output_type": "stream",
     "text": [
      "Enter a list of ages separated by space:  17 18 37 56 57\n"
     ]
    },
    {
     "name": "stdout",
     "output_type": "stream",
     "text": [
      "17 : Minor\n",
      "18 : Adult\n",
      "37 : Adult\n",
      "56 : Senior Citizen\n",
      "57 : Senior Citizen\n"
     ]
    }
   ],
   "source": [
    "input_string = input(\"Enter a list of ages separated by space: \") \n",
    "age = input_string.split()\n",
    "\n",
    "for a in age:\n",
    "    if int(a)<18:\n",
    "        group = \"Minor\"\n",
    "    elif int(a)>=56:\n",
    "        group = \"Senior Citizen\"\n",
    "    else:\n",
    "        group = \"Adult\"\n",
    "    print(a + \" : \" + group)"
   ]
  },
  {
   "cell_type": "markdown",
   "id": "b0be9cff-72d3-4263-8431-65b31d08e5f1",
   "metadata": {},
   "source": [
    "### Problem 4 — Calculating Pi"
   ]
  },
  {
   "cell_type": "code",
   "execution_count": 33,
   "id": "abf67587-99bf-4b80-b52b-2e007ac2566f",
   "metadata": {},
   "outputs": [
    {
     "name": "stdout",
     "output_type": "stream",
     "text": [
      "π=3.1514934010709914 using 100 terms.\n",
      "π=3.1425916543395442 using 1000 terms.\n",
      "π=3.1416926435905346 using 10000 terms.\n",
      "π=3.1416026534897203 using 100000 terms.\n",
      "π=3.1415936535887745 using 1000000 terms.\n"
     ]
    }
   ],
   "source": [
    "iterations = [100,1000,10000,100000,1000000]\n",
    "n = 0\n",
    "sum = 0\n",
    "for i in iterations:\n",
    "    while n<=i:\n",
    "        sum+=((-1)**n)/(2*n+1)\n",
    "        n+=1\n",
    "    Leibniz=4*sum\n",
    "    print(f\"\\u03c0={Leibniz:.16f} using {i} terms.\")"
   ]
  },
  {
   "cell_type": "code",
   "execution_count": null,
   "id": "b3b92f8d-65fa-4d20-a383-ac5000b4ce89",
   "metadata": {},
   "outputs": [],
   "source": []
  }
 ],
 "metadata": {
  "kernelspec": {
   "display_name": "Python 3 (ipykernel)",
   "language": "python",
   "name": "python3"
  },
  "language_info": {
   "codemirror_mode": {
    "name": "ipython",
    "version": 3
   },
   "file_extension": ".py",
   "mimetype": "text/x-python",
   "name": "python",
   "nbconvert_exporter": "python",
   "pygments_lexer": "ipython3",
   "version": "3.11.7"
  }
 },
 "nbformat": 4,
 "nbformat_minor": 5
}
